{
  "nbformat": 4,
  "nbformat_minor": 0,
  "metadata": {
    "colab": {
      "provenance": []
    },
    "kernelspec": {
      "name": "ir",
      "display_name": "R"
    },
    "language_info": {
      "name": "R"
    }
  },
  "cells": [
    {
      "cell_type": "code",
      "execution_count": null,
      "metadata": {
        "colab": {
          "base_uri": "https://localhost:8080/"
        },
        "id": "mGxIdDYbnlK8",
        "outputId": "0d4aff17-fadd-4852-9b67-9b71af700b4e"
      },
      "outputs": [
        {
          "output_type": "stream",
          "name": "stdout",
          "text": [
            "Enter the lower limit :0\n",
            "Enter the upper limit :20\n",
            "Prime numbers between  0 and 20 are:\n",
            "3  5  7  11  13  17  19  "
          ]
        }
      ],
      "source": [
        "#b\n",
        "is_prime <- function(n){\n",
        "  if(n<2){\n",
        "    return(FALSE)\n",
        "  }\n",
        "  for( i in 2: (sqrt(n))){\n",
        "    if (n%%i==0){\n",
        "      return(FALSE)\n",
        "    }\n",
        "  }\n",
        "  return(TRUE)\n",
        "}\n",
        "\n",
        "# taking user input\n",
        "lower <-as.integer(readline(prompt=\"Enter the lower limit :\"))\n",
        "upper <-as.integer(readline(prompt=\"Enter the upper limit :\"))\n",
        "\n",
        "cat(\"Prime numbers between \",lower,\"and\",upper,\"are:\\n\")\n",
        "for (i in lower:upper){\n",
        "  if(is_prime(i)){\n",
        "    cat(i,\" \")\n",
        "  }\n",
        "}"
      ]
    },
    {
      "cell_type": "code",
      "source": [],
      "metadata": {
        "id": "0vUwLqVYnl8t"
      },
      "execution_count": null,
      "outputs": []
    }
  ]
}